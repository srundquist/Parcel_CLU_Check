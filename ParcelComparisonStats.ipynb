{
 "cells": [
  {
   "cell_type": "code",
   "execution_count": 1,
   "metadata": {},
   "outputs": [
    {
     "name": "stdout",
     "output_type": "stream",
     "text": [
      "Requirement already satisfied: rtree in /Library/Frameworks/Python.framework/Versions/3.10/lib/python3.10/site-packages (1.2.0)\n"
     ]
    },
    {
     "name": "stderr",
     "output_type": "stream",
     "text": [
      "/Users/sorenrundquist/Library/Python/3.10/lib/python/site-packages/geopandas/_compat.py:111: UserWarning: The Shapely GEOS version (3.10.3-CAPI-1.16.1) is incompatible with the GEOS version PyGEOS was compiled with (3.10.4-CAPI-1.16.2). Conversions between both will be slow.\n",
      "  warnings.warn(\n"
     ]
    }
   ],
   "source": [
    "!pip install rtree\n",
    "\n",
    "import os\n",
    "import json\n",
    "# import yaml\n",
    "import rtree\n",
    "import fiona\n",
    "\n",
    "from scipy.spatial import distance\n",
    "import geopandas as gpd\n",
    "import pandas as pd\n",
    "from scipy.spatial.distance import cdist\n",
    "from os import path as op\n",
    "from ipyleaflet import GeoJSON\n",
    "from shapely.geometry import Point\n",
    "from shapely.ops import nearest_points\n",
    "import numpy as np\n",
    "from scipy import stats"
   ]
  },
  {
   "cell_type": "markdown",
   "metadata": {},
   "source": [
    "Point to input files and variables"
   ]
  },
  {
   "cell_type": "code",
   "execution_count": 2,
   "metadata": {},
   "outputs": [],
   "source": [
    "#Point to input files and other variables\n",
    "sample_clu_path = '/Users/sorenrundquist/Documents/ParcelCheck/test_clu.geojson'\n",
    "sample_parcels_path = '/Users/sorenrundquist/Documents/ParcelCheck/test_parcel_id.geojson'\n",
    "output_results_path = '/Users/sorenrundquist/Documents/ParcelCheck/'\n",
    "union_results_path = '/Users/sorenrundquist/Documents/ParcelCheck/parcel_CLU_union.geojson'\n",
    "parcel_id = 'parID'\n",
    "clu_id = 'cluID'\n",
    "parcel_area = 'parArea'\n",
    "clu_area = 'cluArea'\n",
    "union_area = 'uniArea'\n",
    "expression = 'uniArea >= 5'\n",
    "clu_area_minus_uni_area = 'difOverlap'\n",
    "conus_epsg = 'EPSG:5070'\n",
    "sample_parcels_path_reproj = output_results_path +\"test_parcel_id_reproj.geojson\"\n",
    "sample_clu_path_reproj = output_results_path +\"test_clu_reproj.geojson\"\n"
   ]
  },
  {
   "cell_type": "code",
   "execution_count": 4,
   "metadata": {},
   "outputs": [
    {
     "name": "stdout",
     "output_type": "stream",
     "text": [
      "Parcel ID EPSG code: 4326\n",
      "CLU EPSG code: 4326\n"
     ]
    }
   ],
   "source": [
    "#check existing projection and reproject\n",
    "def get_geojson_epsg(sample_parcels_path):\n",
    "    # Open the GeoJSON file\n",
    "    with fiona.open(sample_parcels_path) as src:\n",
    "        # Get the CRS (coordinate reference system) of the GeoJSON file\n",
    "        crs = src.crs\n",
    "    \n",
    "    # Extract the EPSG code from the CRS\n",
    "    if 'init' in crs:\n",
    "        epsg_code = int(crs['init'].split(':')[1])\n",
    "    elif 'AUTHORITY' in crs:\n",
    "        epsg_code = int(crs['AUTHORITY'][1])\n",
    "    else:\n",
    "        epsg_code = None\n",
    "    \n",
    "    return epsg_code\n",
    "\n",
    "epsg_code_par = get_geojson_epsg(sample_parcels_path)\n",
    "print(\"Parcel ID EPSG code:\", epsg_code_par)\n",
    "\n",
    "def get_geojson_epsg(sample_clu_path):\n",
    "    # Open the GeoJSON file\n",
    "    with fiona.open(sample_clu_path) as src:\n",
    "        # Get the CRS (coordinate reference system) of the GeoJSON file\n",
    "        crs = src.crs\n",
    "    \n",
    "    # Extract the EPSG code from the CRS\n",
    "    if 'init' in crs:\n",
    "        epsg_code = int(crs['init'].split(':')[1])\n",
    "    elif 'AUTHORITY' in crs:\n",
    "        epsg_code = int(crs['AUTHORITY'][1])\n",
    "    else:\n",
    "        epsg_code = None\n",
    "    \n",
    "    return epsg_code\n",
    "\n",
    "# Example usage:\n",
    "# geojson_path = 'path_to_geojson.geojson'\n",
    "epsg_code_clu = get_geojson_epsg(sample_clu_path)\n",
    "print(\"CLU EPSG code:\", epsg_code_clu)"
   ]
  },
  {
   "cell_type": "code",
   "execution_count": 5,
   "metadata": {},
   "outputs": [
    {
     "name": "stderr",
     "output_type": "stream",
     "text": [
      "/Users/sorenrundquist/Library/Python/3.10/lib/python/site-packages/geopandas/io/file.py:362: FutureWarning: pandas.Int64Index is deprecated and will be removed from pandas in a future version. Use pandas.Index with the appropriate dtype instead.\n",
      "  pd.Int64Index,\n"
     ]
    },
    {
     "name": "stdout",
     "output_type": "stream",
     "text": [
      "Reprojected GeoJSON file saved to '/Users/sorenrundquist/Documents/ParcelCheck/test_parcel_id_reproj.geojson'.\n",
      "Reprojected GeoJSON file saved to '/Users/sorenrundquist/Documents/ParcelCheck/test_clu_reproj.geojson'.\n"
     ]
    },
    {
     "name": "stderr",
     "output_type": "stream",
     "text": [
      "/Users/sorenrundquist/Library/Python/3.10/lib/python/site-packages/geopandas/io/file.py:362: FutureWarning: pandas.Int64Index is deprecated and will be removed from pandas in a future version. Use pandas.Index with the appropriate dtype instead.\n",
      "  pd.Int64Index,\n"
     ]
    }
   ],
   "source": [
    "#reproject Parcel ID geojsons to CONUS Albers Equal Area\n",
    "def reproject_geojson(sample_parcels_path, sample_parcels_path_reproj, conus_epsg):\n",
    "    # Read the GeoJSON file\n",
    "    gdf = gpd.read_file(sample_parcels_path)\n",
    "    \n",
    "    # Reproject to the target CRS\n",
    "    gdf_reprojected = gdf.to_crs(conus_epsg)\n",
    "    \n",
    "    # Save the reprojected GeoJSON file\n",
    "    gdf_reprojected.to_file(sample_parcels_path_reproj, driver='GeoJSON')\n",
    "    print(f\"Reprojected GeoJSON file saved to '{sample_parcels_path_reproj}'.\")\n",
    "\n",
    "reproject_geojson(sample_parcels_path, sample_parcels_path_reproj, conus_epsg)\n",
    "\n",
    "#reproject CLU geojsons to CONUS Albers Equal Area\n",
    "def reproject_geojson(sample_clu_path, sample_clu_path_reproj, conus_epsg):\n",
    "    # Read the GeoJSON file\n",
    "    gdf = gpd.read_file(sample_clu_path)\n",
    "    \n",
    "    # Reproject to the target CRS\n",
    "    gdf_reprojected = gdf.to_crs(conus_epsg)\n",
    "    \n",
    "    # Save the reprojected GeoJSON file\n",
    "    gdf_reprojected.to_file(sample_clu_path_reproj, driver='GeoJSON')\n",
    "    print(f\"Reprojected GeoJSON file saved to '{sample_clu_path_reproj}'.\")\n",
    "\n",
    "reproject_geojson(sample_clu_path, sample_clu_path_reproj, conus_epsg)"
   ]
  },
  {
   "cell_type": "code",
   "execution_count": 6,
   "metadata": {},
   "outputs": [
    {
     "name": "stderr",
     "output_type": "stream",
     "text": [
      "/Users/sorenrundquist/Library/Python/3.10/lib/python/site-packages/geopandas/io/file.py:362: FutureWarning: pandas.Int64Index is deprecated and will be removed from pandas in a future version. Use pandas.Index with the appropriate dtype instead.\n",
      "  pd.Int64Index,\n"
     ]
    },
    {
     "name": "stdout",
     "output_type": "stream",
     "text": [
      "New column 'cluID' added to the shapefile.\n",
      "cluID updated with unique IDs.\n"
     ]
    },
    {
     "name": "stderr",
     "output_type": "stream",
     "text": [
      "/Users/sorenrundquist/Library/Python/3.10/lib/python/site-packages/geopandas/io/file.py:362: FutureWarning: pandas.Int64Index is deprecated and will be removed from pandas in a future version. Use pandas.Index with the appropriate dtype instead.\n",
      "  pd.Int64Index,\n",
      "/Users/sorenrundquist/Library/Python/3.10/lib/python/site-packages/geopandas/io/file.py:362: FutureWarning: pandas.Int64Index is deprecated and will be removed from pandas in a future version. Use pandas.Index with the appropriate dtype instead.\n",
      "  pd.Int64Index,\n"
     ]
    },
    {
     "name": "stdout",
     "output_type": "stream",
     "text": [
      "New column 'parID' added to the shapefile.\n",
      "parID updated with unique IDs.\n"
     ]
    },
    {
     "name": "stderr",
     "output_type": "stream",
     "text": [
      "/Users/sorenrundquist/Library/Python/3.10/lib/python/site-packages/geopandas/io/file.py:362: FutureWarning: pandas.Int64Index is deprecated and will be removed from pandas in a future version. Use pandas.Index with the appropriate dtype instead.\n",
      "  pd.Int64Index,\n"
     ]
    }
   ],
   "source": [
    "#Add unique ID for CLUs\n",
    "def add_column_shapefile(sample_clu_path_reproj, clu_id):\n",
    "    # Read the shapefile\n",
    "    gdf = gpd.read_file(sample_clu_path_reproj)\n",
    "    \n",
    "    # Add a new column with default value\n",
    "    gdf[clu_id] = None\n",
    "    \n",
    "    # Save the updated shapefile\n",
    "    gdf.to_file(sample_clu_path_reproj)\n",
    "    print(f\"New column '{clu_id}' added to the shapefile.\")\n",
    "\n",
    "def update_column_with_unique_id(sample_clu_path_reproj, clu_id):\n",
    "    # Read the shapefile\n",
    "    gdf = gpd.read_file(sample_clu_path_reproj)\n",
    "    \n",
    "    # Generate unique IDs\n",
    "    gdf[clu_id] = range(1, len(gdf) + 1)\n",
    "    \n",
    "    # Save the updated shapefile\n",
    "    gdf.to_file(sample_clu_path_reproj)\n",
    "    print(f\"{clu_id} updated with unique IDs.\")\n",
    "\n",
    "add_column_shapefile(sample_clu_path_reproj, clu_id)\n",
    "update_column_with_unique_id(sample_clu_path_reproj, clu_id)\n",
    "\n",
    "#Add unique ID for Parcel ID\n",
    "def add_column_shapefile(sample_parcels_path_reproj, parcel_id):\n",
    "    # Read the shapefile\n",
    "    gdf = gpd.read_file(sample_parcels_path_reproj)\n",
    "    \n",
    "    # Add a new column with default value\n",
    "    gdf[parcel_id] = None\n",
    "    \n",
    "    # Save the updated shapefile\n",
    "    gdf.to_file(sample_parcels_path_reproj)\n",
    "    print(f\"New column '{parcel_id}' added to the shapefile.\")\n",
    "\n",
    "def update_column_with_unique_id(sample_parcels_path_reproj, parcel_id):\n",
    "    # Read the shapefile\n",
    "    gdf = gpd.read_file(sample_parcels_path_reproj)\n",
    "    \n",
    "    # Generate unique IDs\n",
    "    gdf[parcel_id] = range(1, len(gdf) + 1)\n",
    "    \n",
    "    # Save the updated shapefile\n",
    "    gdf.to_file(sample_parcels_path_reproj)\n",
    "    print(f\"{parcel_id} updated with unique IDs.\")\n",
    "\n",
    "add_column_shapefile(sample_parcels_path_reproj, parcel_id)\n",
    "update_column_with_unique_id(sample_parcels_path_reproj, parcel_id)"
   ]
  },
  {
   "cell_type": "code",
   "execution_count": 7,
   "metadata": {},
   "outputs": [
    {
     "name": "stdout",
     "output_type": "stream",
     "text": [
      "   FID  parID                                           geometry    parArea\n",
      "0    1      1  MULTIPOLYGON (((312225.744 2222608.950, 312232...   5.810520\n",
      "1    3      2  MULTIPOLYGON (((312003.554 2222690.349, 312017...  15.734414\n",
      "2    4      3  MULTIPOLYGON (((315566.435 2222815.336, 315569...  17.413717\n",
      "3    5      4  MULTIPOLYGON (((315937.935 2222830.558, 315941...  50.785550\n",
      "4    7      5  MULTIPOLYGON (((314991.587 2222776.751, 315049...  31.747429\n",
      "   CLUCLSCD     layer  area     ID  _majority  cluID  \\\n",
      "0         2  IA_Merge    81  20797        1.0      1   \n",
      "1         2  IA_Merge    73  20799        1.0      2   \n",
      "2         2  IA_Merge    40  20801        1.0      3   \n",
      "3         2  IA_Merge    50  20856        1.0      4   \n",
      "4         2  IA_Merge    80  21576        1.0      5   \n",
      "\n",
      "                                            geometry    cluArea  \n",
      "0  MULTIPOLYGON (((312383.240 2220242.972, 312555...  80.893610  \n",
      "1  MULTIPOLYGON (((312422.250 2219439.122, 311766...  73.345969  \n",
      "2  MULTIPOLYGON (((313209.148 2219466.718, 313071...  39.618479  \n",
      "3  MULTIPOLYGON (((312824.712 2219452.095, 312824...  50.323859  \n",
      "4  MULTIPOLYGON (((314039.600 2219400.635, 314048...  80.369510  \n"
     ]
    },
    {
     "name": "stderr",
     "output_type": "stream",
     "text": [
      "/Users/sorenrundquist/Library/Python/3.10/lib/python/site-packages/geopandas/io/file.py:362: FutureWarning: pandas.Int64Index is deprecated and will be removed from pandas in a future version. Use pandas.Index with the appropriate dtype instead.\n",
      "  pd.Int64Index,\n",
      "/Users/sorenrundquist/Library/Python/3.10/lib/python/site-packages/geopandas/io/file.py:362: FutureWarning: pandas.Int64Index is deprecated and will be removed from pandas in a future version. Use pandas.Index with the appropriate dtype instead.\n",
      "  pd.Int64Index,\n"
     ]
    }
   ],
   "source": [
    "#Calculate area for parcels\n",
    "def calculate_area(gdf):\n",
    "    # Calculate area in square meters\n",
    "    gdf[parcel_area] = gdf.geometry.area * 0.000247105\n",
    "    return gdf\n",
    "\n",
    "# Example usage:\n",
    "if __name__ == \"__main__\":\n",
    "    # Read your GeoDataFrame from a file or any other source\n",
    "    gdf = gpd.read_file(sample_parcels_path_reproj)\n",
    "\n",
    "    # Call the function to calculate area and add it as a new column\n",
    "    gdf = calculate_area(gdf)\n",
    "\n",
    "    # Print the first few rows to verify\n",
    "    print(gdf.head())\n",
    "\n",
    "    # Save the updated GeoDataFrame to a file or use it further in your analysis\n",
    "    gdf.to_file(sample_parcels_path_reproj, driver='GeoJSON')\n",
    "\n",
    "#Calculate area for CLUs\n",
    "def calculate_area(gdf):\n",
    "    # Calculate area in square meters\n",
    "    gdf[clu_area] = gdf.geometry.area * 0.000247105\n",
    "    return gdf\n",
    "\n",
    "# Example usage:\n",
    "if __name__ == \"__main__\":\n",
    "    # Read your GeoDataFrame from a file or any other source\n",
    "    gdf = gpd.read_file(sample_clu_path_reproj)\n",
    "\n",
    "    # Call the function to calculate area and add it as a new column\n",
    "    gdf = calculate_area(gdf) \n",
    "\n",
    "    # Print the first few rows to verify\n",
    "    print(gdf.head())\n",
    "\n",
    "    # Save the updated GeoDataFrame to a file or use it further in your analysis\n",
    "    gdf.to_file(sample_clu_path_reproj, driver='GeoJSON')"
   ]
  },
  {
   "cell_type": "code",
   "execution_count": 8,
   "metadata": {},
   "outputs": [
    {
     "name": "stderr",
     "output_type": "stream",
     "text": [
      "/var/folders/nx/7596x84x0g1_qn0bk3krnnzr0000gn/T/ipykernel_67994/3990652312.py:8: UserWarning: `keep_geom_type=True` in overlay resulted in 17 dropped geometries of different geometry types than df1 has. Set `keep_geom_type=False` to retain all geometries\n",
      "  union_gdf = gpd.overlay(gdf1, gdf2, how='union')\n",
      "/Users/sorenrundquist/Library/Python/3.10/lib/python/site-packages/geopandas/io/file.py:362: FutureWarning: pandas.Int64Index is deprecated and will be removed from pandas in a future version. Use pandas.Index with the appropriate dtype instead.\n",
      "  pd.Int64Index,\n"
     ]
    },
    {
     "name": "stdout",
     "output_type": "stream",
     "text": [
      "Union of '/Users/sorenrundquist/Documents/ParcelCheck/test_parcel_id_reproj.geojson' and '/Users/sorenrundquist/Documents/ParcelCheck/test_clu_reproj.geojson' saved to '/Users/sorenrundquist/Documents/ParcelCheck/parcel_CLU_union.geojson'.\n"
     ]
    }
   ],
   "source": [
    "#Union the Parcel ID and CLU sample files\n",
    "def union_geojsons(sample_parcels_path_reproj, sample_clu_path_reproj, union_results_path):\n",
    "    # Read the GeoJSON files\n",
    "    gdf1 = gpd.read_file(sample_parcels_path_reproj)\n",
    "    gdf2 = gpd.read_file(sample_clu_path_reproj)\n",
    "    \n",
    "    # Union the GeoDataFrames\n",
    "    union_gdf = gpd.overlay(gdf1, gdf2, how='union')\n",
    "    \n",
    "    # Save the result to a new GeoJSON file\n",
    "    union_gdf.to_file(union_results_path , driver='GeoJSON')\n",
    "    print(f\"Union of '{sample_parcels_path_reproj}' and '{sample_clu_path_reproj}' saved to '{union_results_path}'.\")\n",
    "\n",
    "union_geojsons(sample_parcels_path_reproj, sample_clu_path_reproj, union_results_path)"
   ]
  },
  {
   "cell_type": "code",
   "execution_count": 9,
   "metadata": {},
   "outputs": [
    {
     "name": "stdout",
     "output_type": "stream",
     "text": [
      "    FID  parID    parArea  CLUCLSCD     layer   area       ID  _majority  \\\n",
      "0   1.0    1.0   5.810520       2.0  IA_Merge  267.0  27703.0        1.0   \n",
      "1  14.0   12.0  30.729257       2.0  IA_Merge  267.0  27703.0        1.0   \n",
      "2   4.0    3.0  17.413717       2.0  IA_Merge   13.0  37136.0        1.0   \n",
      "3   9.0    7.0  23.222999       2.0  IA_Merge   13.0  37136.0        1.0   \n",
      "4   4.0    3.0  17.413717       2.0  IA_Merge   70.0  37150.0        1.0   \n",
      "\n",
      "   cluID     cluArea                                           geometry  \\\n",
      "0   18.0  267.022727  POLYGON ((312321.850 2222668.088, 312325.695 2...   \n",
      "1   18.0  267.022727  MULTIPOLYGON (((312737.814 2222037.099, 312737...   \n",
      "2   80.0   12.948656  POLYGON ((315547.768 2222558.438, 315542.894 2...   \n",
      "3   80.0   12.948656  POLYGON ((315415.004 2222593.181, 315437.063 2...   \n",
      "4   83.0   70.166181  POLYGON ((315721.475 2222414.886, 315707.111 2...   \n",
      "\n",
      "    uniArea  \n",
      "0  0.019863  \n",
      "1  0.095679  \n",
      "2  0.050229  \n",
      "3  7.069908  \n",
      "4  0.258394  \n"
     ]
    },
    {
     "name": "stderr",
     "output_type": "stream",
     "text": [
      "/Users/sorenrundquist/Library/Python/3.10/lib/python/site-packages/geopandas/io/file.py:362: FutureWarning: pandas.Int64Index is deprecated and will be removed from pandas in a future version. Use pandas.Index with the appropriate dtype instead.\n",
      "  pd.Int64Index,\n"
     ]
    }
   ],
   "source": [
    "#Calculate area (in acres) for union - or overlap\n",
    "def calculate_area(gdf):\n",
    "    # Calculate area in square meters\n",
    "    gdf[union_area] = gdf.geometry.area * 0.000247105\n",
    "    return gdf\n",
    "\n",
    "# Example usage:\n",
    "if __name__ == \"__main__\":\n",
    "    # Read your GeoDataFrame from a file or any other source\n",
    "    gdf = gpd.read_file(union_results_path)\n",
    "\n",
    "    # Call the function to calculate area and add it as a new column\n",
    "    gdf = calculate_area(gdf) \n",
    "\n",
    "    # Print the first few rows to verify\n",
    "    print(gdf.head())\n",
    "\n",
    "    # Save the updated GeoDataFrame to a file or use it further in your analysis\n",
    "    gdf.to_file(union_results_path, driver='GeoJSON')"
   ]
  },
  {
   "cell_type": "code",
   "execution_count": 10,
   "metadata": {},
   "outputs": [
    {
     "name": "stdout",
     "output_type": "stream",
     "text": [
      "    FID  parID    parArea  CLUCLSCD     layer   area       ID  _majority  \\\n",
      "0   1.0    1.0   5.810520       2.0  IA_Merge  267.0  27703.0        1.0   \n",
      "1  14.0   12.0  30.729257       2.0  IA_Merge  267.0  27703.0        1.0   \n",
      "2   4.0    3.0  17.413717       2.0  IA_Merge   13.0  37136.0        1.0   \n",
      "3   9.0    7.0  23.222999       2.0  IA_Merge   13.0  37136.0        1.0   \n",
      "4   4.0    3.0  17.413717       2.0  IA_Merge   70.0  37150.0        1.0   \n",
      "\n",
      "   cluID     cluArea   uniArea  \\\n",
      "0   18.0  267.022727  0.019863   \n",
      "1   18.0  267.022727  0.095679   \n",
      "2   80.0   12.948656  0.050229   \n",
      "3   80.0   12.948656  7.069908   \n",
      "4   83.0   70.166181  0.258394   \n",
      "\n",
      "                                            geometry  difOverlap  \n",
      "0  POLYGON ((312321.850 2222668.088, 312325.695 2...  267.002864  \n",
      "1  MULTIPOLYGON (((312737.814 2222037.099, 312737...  266.927048  \n",
      "2  POLYGON ((315547.768 2222558.438, 315542.894 2...   12.898427  \n",
      "3  POLYGON ((315415.004 2222593.181, 315437.063 2...    5.878747  \n",
      "4  POLYGON ((315721.475 2222414.886, 315707.111 2...   69.907787  \n"
     ]
    },
    {
     "name": "stderr",
     "output_type": "stream",
     "text": [
      "/Users/sorenrundquist/Library/Python/3.10/lib/python/site-packages/geopandas/io/file.py:362: FutureWarning: pandas.Int64Index is deprecated and will be removed from pandas in a future version. Use pandas.Index with the appropriate dtype instead.\n",
      "  pd.Int64Index,\n"
     ]
    }
   ],
   "source": [
    "#Calculate the difference (in acres) between CLU area and union area\n",
    "def calculate_dif(gdf):\n",
    "    # Calculate area in square meters\n",
    "    gdf[clu_area_minus_uni_area] = gdf[clu_area] - gdf[union_area]\n",
    "    return gdf\n",
    "\n",
    "# Example usage:\n",
    "if __name__ == \"__main__\":\n",
    "    # Read your GeoDataFrame from a file or any other source\n",
    "    gdf = gpd.read_file(union_results_path)\n",
    "\n",
    "    # Call the function to calculate area and add it as a new column\n",
    "    gdf = calculate_dif(gdf) \n",
    "\n",
    "    # Print the first few rows to verify\n",
    "    print(gdf.head())\n",
    "\n",
    "    # Save the updated GeoDataFrame to a file or use it further in your analysis\n",
    "    gdf.to_file(union_results_path, driver='GeoJSON')"
   ]
  },
  {
   "cell_type": "code",
   "execution_count": 11,
   "metadata": {},
   "outputs": [
    {
     "name": "stdout",
     "output_type": "stream",
     "text": [
      "CLU-Parcel Overlap Count: 128 features\n",
      "CLU-Parcel Overlap Minimum Difference:: 0.00 acres\n",
      "CLU-Parcel Overlap Maximum Difference: 131.08 acres\n",
      "CLU-Parcel Overlap Mean Difference: 21.34 acres\n",
      "CLU-Parcel Overlap Standard Deviation Difference: 35.21 acres\n",
      "CLU-Parcel Overlap Median Difference: 2.65 acres\n"
     ]
    }
   ],
   "source": [
    "#Calculate statistics for overlapping polygons not null values greater than 5 acres (this gets rid of slivers)\n",
    "def calculate_statistics_for_not_null_values(union_results_path, parcel_area, clu_area):\n",
    "    # Read the GeoJSON file into a GeoDataFrame\n",
    "    gdf = gpd.read_file(union_results_path)\n",
    "\n",
    "    # Select rows where both parArea and cluArea are not null\n",
    "    selected_gdf = gdf[(~gdf[parcel_area].isnull()) & (~gdf[clu_area].isnull())]\n",
    "\n",
    "    selected_gdf2 = selected_gdf[selected_gdf.eval(expression)]\n",
    "\n",
    "    # Calculate statistics\n",
    "    count_val = selected_gdf2[clu_area_minus_uni_area].count()\n",
    "    min_val = selected_gdf2[clu_area_minus_uni_area].min()\n",
    "    max_val = selected_gdf2[clu_area_minus_uni_area].max()\n",
    "    mean_val = selected_gdf2[clu_area_minus_uni_area].mean()\n",
    "    std_val = selected_gdf2[clu_area_minus_uni_area].std()\n",
    "    med_val = selected_gdf2[clu_area_minus_uni_area].median()\n",
    "\n",
    "    return count_val, min_val, max_val, mean_val, std_val, med_val\n",
    "\n",
    "count_val, min_val, max_val, mean_val, std_val, med_val = calculate_statistics_for_not_null_values(union_results_path, parcel_area, clu_area)\n",
    "print(\"CLU-Parcel Overlap Count: %.0f\" % count_val, \"features\")\n",
    "print(\"CLU-Parcel Overlap Minimum Difference:: %.2f\" % min_val, \"acres\")\n",
    "print(\"CLU-Parcel Overlap Maximum Difference: %.2f\" % max_val, \"acres\")\n",
    "print(\"CLU-Parcel Overlap Mean Difference: %.2f\" % mean_val, \"acres\")\n",
    "print(\"CLU-Parcel Overlap Standard Deviation Difference: %.2f\" % std_val, \"acres\")\n",
    "print(\"CLU-Parcel Overlap Median Difference: %.2f\" % med_val, \"acres\")"
   ]
  },
  {
   "cell_type": "code",
   "execution_count": 12,
   "metadata": {},
   "outputs": [
    {
     "name": "stdout",
     "output_type": "stream",
     "text": [
      "CLU Count: 139 features\n",
      "CLU Minimum: 4.60 acres\n",
      "CLU Maximum: 267.02 acres\n",
      "CLU Mean: 51.45 acres\n",
      "CLU Standard Deviation: 46.85 acres\n",
      "CLU Median Deviation: 37.38 acres\n"
     ]
    }
   ],
   "source": [
    "#Calculate statistics for CLU polygons raw data\n",
    "def calculate_stats_from_column(sample_clu_path_reproj, clu_area):\n",
    "    # Read GeoJSON file into a GeoDataFrame\n",
    "    gdf = gpd.read_file(sample_clu_path_reproj)\n",
    "\n",
    "    # Calculate statistics from the specified column\n",
    "    count_val = gdf[clu_area].count()\n",
    "    min_val = gdf[clu_area].min()\n",
    "    max_val = gdf[clu_area].max()\n",
    "    mean_val = gdf[clu_area].mean()\n",
    "    std_val = gdf[clu_area].std()\n",
    "    med_val = gdf[clu_area].median()\n",
    "\n",
    "    return count_val, min_val, max_val, mean_val, std_val, med_val\n",
    "\n",
    "count_val, min_val, max_val, mean_val, std_val, med_val = calculate_stats_from_column(sample_clu_path_reproj, clu_area)\n",
    "print(\"CLU Count: %.0f\" % count_val, \"features\")\n",
    "print(\"CLU Minimum: %.2f\" % min_val, \"acres\")\n",
    "print(\"CLU Maximum: %.2f\" % max_val, \"acres\")\n",
    "print(\"CLU Mean: %.2f\" % mean_val, \"acres\")\n",
    "print(\"CLU Standard Deviation: %.2f\" % std_val, \"acres\")\n",
    "print(\"CLU Median Deviation: %.2f\" % med_val, \"acres\")"
   ]
  },
  {
   "cell_type": "code",
   "execution_count": 13,
   "metadata": {},
   "outputs": [
    {
     "name": "stdout",
     "output_type": "stream",
     "text": [
      "Parcel ID Count: 121 features\n",
      "Parcel ID Minimum:: 4.73 acres\n",
      "Parcel ID Maximum: 158.18 acres\n",
      "Parcel ID Mean: 47.52 acres\n",
      "Parcel ID Standard Deviation: 38.67 acres\n",
      "Parcel ID Median Deviation: 33.73 acres\n"
     ]
    }
   ],
   "source": [
    "#Calculate statistics for Parcel ID polygons raw data\n",
    "def calculate_stats_from_column(sample_parcels_path_reproj, parcel_area):\n",
    "    # Read GeoJSON file into a GeoDataFrame\n",
    "    gdf = gpd.read_file(sample_parcels_path_reproj)\n",
    "\n",
    "    # Calculate statistics from the specified column\n",
    "    count_val = gdf[parcel_area].count()\n",
    "    min_val = gdf[parcel_area].min()\n",
    "    max_val = gdf[parcel_area].max()\n",
    "    mean_val = gdf[parcel_area].mean()\n",
    "    std_val = gdf[parcel_area].std()\n",
    "    med_val = gdf[parcel_area].median()\n",
    "\n",
    "    return count_val, min_val, max_val, mean_val, std_val, med_val\n",
    "\n",
    "count_val, min_val, max_val, mean_val, std_val, med_val = calculate_stats_from_column(sample_parcels_path_reproj, parcel_area)\n",
    "print(\"Parcel ID Count: %.0f\" % count_val, \"features\")\n",
    "print(\"Parcel ID Minimum:: %.2f\" % min_val, \"acres\")\n",
    "print(\"Parcel ID Maximum: %.2f\" % max_val, \"acres\")\n",
    "print(\"Parcel ID Mean: %.2f\" % mean_val, \"acres\")\n",
    "print(\"Parcel ID Standard Deviation: %.2f\" % std_val, \"acres\")\n",
    "print(\"Parcel ID Median Deviation: %.2f\" % med_val, \"acres\")"
   ]
  },
  {
   "cell_type": "code",
   "execution_count": 14,
   "metadata": {},
   "outputs": [
    {
     "name": "stderr",
     "output_type": "stream",
     "text": [
      "/Users/sorenrundquist/Library/Python/3.10/lib/python/site-packages/scipy/spatial/distance.py:463: ShapelyDeprecationWarning: The array interface is deprecated and will no longer work in Shapely 2.0. Convert the '.coords' to a numpy array instead.\n",
      "  u = _validate_vector(u)\n",
      "/Users/sorenrundquist/Library/Python/3.10/lib/python/site-packages/scipy/spatial/distance.py:464: ShapelyDeprecationWarning: The array interface is deprecated and will no longer work in Shapely 2.0. Convert the '.coords' to a numpy array instead.\n",
      "  v = _validate_vector(v)\n"
     ]
    },
    {
     "name": "stdout",
     "output_type": "stream",
     "text": [
      "Mean distance to nearest neighbor: 118.74 meters\n",
      "Max distance to nearest neighbor: 649.50 meters\n",
      "Min distance to nearest neighbor: 0.69 meters\n",
      "STD distance to nearest neighbor: 122.42 meters\n"
     ]
    }
   ],
   "source": [
    "#Calculate the minimum distance between centroids of Parcel ID and CLU polygons\n",
    "def find_centroids(sample_parcels_path_reproj):\n",
    "    # Read GeoJSON file into a GeoDataFrame\n",
    "    gdf = gpd.read_file(sample_parcels_path_reproj)\n",
    "\n",
    "    # Compute centroids\n",
    "    centroids = gdf['geometry'].centroid\n",
    "\n",
    "    return centroids\n",
    "\n",
    "centroids1 = find_centroids(sample_parcels_path_reproj)\n",
    "centroids2 = find_centroids(sample_clu_path_reproj)\n",
    "\n",
    "# print(\"Centroids for GeoJSON 1:\")\n",
    "# print(centroids1)\n",
    "\n",
    "# print(\"\\nCentroids for GeoJSON 2:\")\n",
    "# print(centroids2)\n",
    "\n",
    "def average_distance_to_nearest_neighbor(centroids1, centroids2):\n",
    "    # Initialize list to store minimum distances\n",
    "    min_distances = []\n",
    "\n",
    "    # Compute pairwise distances between centroids\n",
    "    for centroid1 in centroids1:\n",
    "        distances = [distance.euclidean(centroid1, centroid2) for centroid2 in centroids2]\n",
    "        min_distances.append(min(distances))\n",
    "\n",
    "    # Compute the average of the minimum distances\n",
    "    avg_distance = np.mean(min_distances)\n",
    "\n",
    "    return avg_distance\n",
    "def min_distance_to_nearest_neighbor(centroids1, centroids2):\n",
    "    # Initialize list to store minimum distances\n",
    "    min_distances = []\n",
    "\n",
    "    # Compute pairwise distances between centroids\n",
    "    for centroid1 in centroids1:\n",
    "        distances = [distance.euclidean(centroid1, centroid2) for centroid2 in centroids2]\n",
    "        min_distances.append(min(distances))\n",
    "\n",
    "    # Compute the min of the minimum distances\n",
    "    min_distance = np.min(min_distances)\n",
    "\n",
    "    return min_distance\n",
    "def max_distance_to_nearest_neighbor(centroids1, centroids2):\n",
    "    # Initialize list to store minimum distances\n",
    "    min_distances = []\n",
    "\n",
    "    # Compute pairwise distances between centroids\n",
    "    for centroid1 in centroids1:\n",
    "        distances = [distance.euclidean(centroid1, centroid2) for centroid2 in centroids2]\n",
    "        min_distances.append(min(distances))\n",
    "\n",
    "    # Compute the max of the minimum distances\n",
    "    max_distance = np.max(min_distances)\n",
    "\n",
    "    return max_distance\n",
    "def std_distance_to_nearest_neighbor(centroids1, centroids2):\n",
    "    # Initialize list to store minimum distances\n",
    "    min_distances = []\n",
    "\n",
    "    # Compute pairwise distances between centroids\n",
    "    for centroid1 in centroids1:\n",
    "        distances = [distance.euclidean(centroid1, centroid2) for centroid2 in centroids2]\n",
    "        min_distances.append(min(distances))\n",
    "\n",
    "    # Compute the std of the minimum distances\n",
    "    std_distance = np.std(min_distances)\n",
    "\n",
    "    return std_distance\n",
    "avg_distance = average_distance_to_nearest_neighbor(centroids1, centroids2)\n",
    "min_distance = min_distance_to_nearest_neighbor(centroids1, centroids2)\n",
    "max_distance = max_distance_to_nearest_neighbor(centroids1, centroids2)\n",
    "std_distance = std_distance_to_nearest_neighbor(centroids1, centroids2)\n",
    "print(\"Mean distance to nearest neighbor: %.2f\" % avg_distance, \"meters\")\n",
    "print(\"Max distance to nearest neighbor: %.2f\" % max_distance, \"meters\")\n",
    "print(\"Min distance to nearest neighbor: %.2f\" % min_distance, \"meters\")\n",
    "print(\"STD distance to nearest neighbor: %.2f\" % std_distance, \"meters\")"
   ]
  }
 ],
 "metadata": {
  "kernelspec": {
   "display_name": "Python 3",
   "language": "python",
   "name": "python3"
  },
  "language_info": {
   "codemirror_mode": {
    "name": "ipython",
    "version": 3
   },
   "file_extension": ".py",
   "mimetype": "text/x-python",
   "name": "python",
   "nbconvert_exporter": "python",
   "pygments_lexer": "ipython3",
   "version": "3.10.0"
  }
 },
 "nbformat": 4,
 "nbformat_minor": 2
}
